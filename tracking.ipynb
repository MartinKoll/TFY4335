{
 "cells": [
  {
   "cell_type": "code",
   "execution_count": 25,
   "metadata": {},
   "outputs": [],
   "source": [
    "%matplotlib qt\n"
   ]
  },
  {
   "cell_type": "code",
   "execution_count": 26,
   "metadata": {},
   "outputs": [],
   "source": [
    "\n",
    "#imports\n",
    "import numpy as np\n",
    "import matplotlib.pyplot as plt\n",
    "import matplotlib as mpl\n",
    "import trackpy as tp\n",
    "import pims\n",
    "import pandas as pd\n",
    "from pandas import DataFrame, Series  # for convenience\n"
   ]
  },
  {
   "cell_type": "code",
   "execution_count": 28,
   "metadata": {},
   "outputs": [],
   "source": [
    "#Load files\n",
    "frames = pims.Video('videos/sampleB/40x/114sampleB40X.avi')\n"
   ]
  },
  {
   "cell_type": "code",
   "execution_count": 29,
   "metadata": {},
   "outputs": [
    {
     "name": "stderr",
     "output_type": "stream",
     "text": [
      "C:\\Users\\marti\\AppData\\Local\\Packages\\PythonSoftwareFoundation.Python.3.10_qbz5n2kfra8p0\\LocalCache\\local-packages\\Python310\\site-packages\\trackpy\\feature.py:353: UserWarning: I am interpreting the image as 3-dimensional. If it is actually a 2-dimensional color image, convert it to grayscale first.\n",
      "  warnings.warn(\"I am interpreting the image as {}-dimensional. \"\n",
      "C:\\Users\\marti\\AppData\\Local\\Packages\\PythonSoftwareFoundation.Python.3.10_qbz5n2kfra8p0\\LocalCache\\local-packages\\Python310\\site-packages\\trackpy\\find.py:130: UserWarning: All local maxima were in the margins.\n",
      "  warnings.warn(\"All local maxima were in the margins.\", UserWarning)\n"
     ]
    }
   ],
   "source": [
    "# Locate particles in first frame\n",
    "f = tp.locate(frames[0], 11)\n",
    "plt.figure()\n",
    "tp.annotate(f, frames[0])\n",
    "plt.show()"
   ]
  },
  {
   "cell_type": "code",
   "execution_count": null,
   "metadata": {},
   "outputs": [],
   "source": []
  },
  {
   "cell_type": "code",
   "execution_count": 30,
   "metadata": {},
   "outputs": [
    {
     "name": "stdout",
     "output_type": "stream",
     "text": [
      "Frame 9: 303 features\n"
     ]
    }
   ],
   "source": [
    "# Batch process all of the frames to detect particles\n",
    "f_all = tp.batch(frames[0:10], diameter=3, processes=1)\n",
    "\n"
   ]
  },
  {
   "cell_type": "code",
   "execution_count": 44,
   "metadata": {},
   "outputs": [
    {
     "name": "stdout",
     "output_type": "stream",
     "text": [
      "Frame 9: 303 trajectories present.\n"
     ]
    }
   ],
   "source": [
    "# Link particles across all the frames\n",
    "t = tp.link_df(f_all, search_range=5, memory=3)\n",
    "\n",
    "tp.plot_traj(t)\n",
    "plt.show()\n",
    "\n"
   ]
  },
  {
   "cell_type": "code",
   "execution_count": 41,
   "metadata": {},
   "outputs": [],
   "source": [
    "# Opt filter \n",
    "t_filtered = tp.filter_stubs(t, threshold=8)"
   ]
  },
  {
   "cell_type": "code",
   "execution_count": 42,
   "metadata": {},
   "outputs": [],
   "source": [
    "# Plot the trajectories\n",
    "tp.plot_traj(t_filtered)\n",
    "plt.show()"
   ]
  }
 ],
 "metadata": {
  "kernelspec": {
   "display_name": "Python 3",
   "language": "python",
   "name": "python3"
  },
  "language_info": {
   "codemirror_mode": {
    "name": "ipython",
    "version": 3
   },
   "file_extension": ".py",
   "mimetype": "text/x-python",
   "name": "python",
   "nbconvert_exporter": "python",
   "pygments_lexer": "ipython3",
   "version": "3.10.11"
  }
 },
 "nbformat": 4,
 "nbformat_minor": 2
}
