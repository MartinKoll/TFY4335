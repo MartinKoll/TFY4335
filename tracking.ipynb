{
 "cells": [
  {
   "cell_type": "code",
   "execution_count": 2,
   "metadata": {},
   "outputs": [],
   "source": [
    "%matplotlib qt"
   ]
  },
  {
   "cell_type": "code",
   "execution_count": 3,
   "metadata": {},
   "outputs": [],
   "source": [
    "\n",
    "#imports\n",
    "import numpy as np\n",
    "import matplotlib.pyplot as plt\n",
    "import matplotlib as mpl\n",
    "import trackpy as tp\n",
    "import pims\n",
    "import pandas as pd\n",
    "from pandas import DataFrame, Series  # for convenience\n"
   ]
  },
  {
   "cell_type": "code",
   "execution_count": 8,
   "metadata": {},
   "outputs": [],
   "source": [
    "#Load files\n",
    "frames = pims.open('videos/testvideos/tif_testgreen.tif')\n",
    "diameter_variable = 15"
   ]
  },
  {
   "cell_type": "code",
   "execution_count": 9,
   "metadata": {},
   "outputs": [],
   "source": [
    "# Locate particles in first frame\n",
    "%matplotlib qt\n",
    "f = tp.locate(frames[0], diameter=diameter_variable)\n",
    "plt.figure()\n",
    "tp.annotate(f, frames[0])\n",
    "plt.show()"
   ]
  },
  {
   "cell_type": "code",
   "execution_count": 10,
   "metadata": {},
   "outputs": [
    {
     "name": "stdout",
     "output_type": "stream",
     "text": [
      "Frame 194: 125 features\n"
     ]
    }
   ],
   "source": [
    "# Batch process all of the frames to detect particles\n",
    "f_all = tp.batch(frames, diameter=diameter_variable,processes=1)\n",
    "\n"
   ]
  },
  {
   "cell_type": "code",
   "execution_count": 11,
   "metadata": {},
   "outputs": [
    {
     "name": "stdout",
     "output_type": "stream",
     "text": [
      "Frame 194: 125 trajectories present.\n"
     ]
    }
   ],
   "source": [
    "# Link particles across all the frames\n",
    "t = tp.link_df(f_all, search_range=5)\n",
    "\n",
    "tp.plot_traj(t)\n",
    "plt.show()\n",
    "\n"
   ]
  },
  {
   "cell_type": "code",
   "execution_count": 12,
   "metadata": {},
   "outputs": [],
   "source": [
    "# Opt filter \n",
    "t_filtered = tp.filter_stubs(t, threshold=8)"
   ]
  },
  {
   "cell_type": "code",
   "execution_count": 13,
   "metadata": {},
   "outputs": [],
   "source": [
    "# Plot the trajectories\n",
    "tp.plot_traj(t_filtered)\n",
    "plt.show()"
   ]
  }
 ],
 "metadata": {
  "kernelspec": {
   "display_name": "Python 3",
   "language": "python",
   "name": "python3"
  },
  "language_info": {
   "codemirror_mode": {
    "name": "ipython",
    "version": 3
   },
   "file_extension": ".py",
   "mimetype": "text/x-python",
   "name": "python",
   "nbconvert_exporter": "python",
   "pygments_lexer": "ipython3",
   "version": "3.12.0"
  }
 },
 "nbformat": 4,
 "nbformat_minor": 2
}
